{
  "nbformat": 4,
  "nbformat_minor": 0,
  "metadata": {
    "colab": {
      "provenance": []
    },
    "kernelspec": {
      "name": "python3",
      "display_name": "Python 3"
    },
    "language_info": {
      "name": "python"
    }
  },
  "cells": [
    {
      "cell_type": "markdown",
      "source": [
        "**NAME - SAYAN CHAKRABORTY.**\n",
        "\n",
        "**CODE ALPHA PYTHON PROGRAMMING INTERNSHIP TASKS.**"
      ],
      "metadata": {
        "id": "teKW5QWxU9u6"
      }
    },
    {
      "cell_type": "markdown",
      "source": [
        "**TASK 1**\n",
        "\n",
        "**Hangman Game**\n",
        "\n",
        "Design a text-based Hangman game. The program selects a random word, and the player guesses one letter at a time to uncover the word. You can set a limit on the number of incorrect guesses allowed."
      ],
      "metadata": {
        "id": "IJUufZ-JVQJD"
      }
    },
    {
      "cell_type": "code",
      "source": [
        "import random\n",
        "\n",
        "# List of words and corresponding clues\n",
        "words_and_clues = [\n",
        "    (\"python\", \"A popular programming language\"),\n",
        "    (\"elephant\", \"The largest land animal\"),\n",
        "    (\"guitar\", \"A stringed musical instrument\"),\n",
        "    (\"ocean\", \"A large body of saltwater\"),\n",
        "    (\"mountain\", \"A natural elevation of the earth's surface\"),\n",
        "    (\"jupiter\", \"The largest planet in our solar system\")\n",
        "]\n",
        "\n",
        "# Function to display the current state of the word\n",
        "def display_word(word, guessed_letters):\n",
        "    return ' '.join([letter if letter in guessed_letters else '_' for letter in word])\n",
        "\n",
        "# Main hangman game function\n",
        "def hangman_game():\n",
        "    word, clue = random.choice(words_and_clues)  # Randomly select a word and its clue\n",
        "\n",
        "    guessed_letters = []\n",
        "    incorrect_guesses = 0\n",
        "    max_incorrect_guesses = 6  # Number of allowed incorrect guesses\n",
        "\n",
        "    print(f\"Clue: {clue}\")\n",
        "    print(f\"\\nThe word to guess has {len(word)} letters.\")\n",
        "\n",
        "    while incorrect_guesses < max_incorrect_guesses:\n",
        "        print(\"\\nWord:\", display_word(word, guessed_letters))\n",
        "\n",
        "        # Get user guess\n",
        "        guess = input(\"Guess a letter: \").lower()\n",
        "\n",
        "        # Validate user input\n",
        "        if len(guess) != 1 or not guess.isalpha():\n",
        "            print(\"Please enter a single alphabetic letter.\")\n",
        "            continue\n",
        "\n",
        "        # Check if the guess is correct\n",
        "        if guess in word:\n",
        "            if guess in guessed_letters:\n",
        "                print(f\"You already guessed '{guess}'.\")\n",
        "            else:\n",
        "                guessed_letters.append(guess)\n",
        "                print(f\"Good guess! '{guess}' is in the word.\")\n",
        "        else:\n",
        "            incorrect_guesses += 1\n",
        "            print(f\"Sorry, '{guess}' is not in the word. Incorrect guesses left: {max_incorrect_guesses - incorrect_guesses}\")\n",
        "\n",
        "        # Check if the player has guessed the word\n",
        "        if all(letter in guessed_letters for letter in word):\n",
        "            print(\"\\nCongratulations! You've guessed the word:\", word)\n",
        "            break\n",
        "    else:\n",
        "        print(\"\\nYou've run out of guesses! The word was:\", word)\n",
        "\n",
        "# Run the hangman game\n",
        "hangman_game()\n"
      ],
      "metadata": {
        "colab": {
          "base_uri": "https://localhost:8080/"
        },
        "id": "1oThsq_hFwMv",
        "outputId": "797f1d29-3f83-443e-8b04-e471a168f98c"
      },
      "execution_count": null,
      "outputs": [
        {
          "output_type": "stream",
          "name": "stdout",
          "text": [
            "Clue: A natural elevation of the earth's surface\n",
            "\n",
            "The word to guess has 8 letters.\n",
            "\n",
            "Word: _ _ _ _ _ _ _ _\n",
            "Guess a letter: m\n",
            "Good guess! 'm' is in the word.\n",
            "\n",
            "Word: m _ _ _ _ _ _ _\n",
            "Guess a letter: o\n",
            "Good guess! 'o' is in the word.\n",
            "\n",
            "Word: m o _ _ _ _ _ _\n",
            "Guess a letter: u\n",
            "Good guess! 'u' is in the word.\n",
            "\n",
            "Word: m o u _ _ _ _ _\n",
            "Guess a letter: n\n",
            "Good guess! 'n' is in the word.\n",
            "\n",
            "Word: m o u n _ _ _ n\n",
            "Guess a letter: e\n",
            "Sorry, 'e' is not in the word. Incorrect guesses left: 5\n",
            "\n",
            "Word: m o u n _ _ _ n\n",
            "Guess a letter: t\n",
            "Good guess! 't' is in the word.\n",
            "\n",
            "Word: m o u n t _ _ n\n",
            "Guess a letter: a\n",
            "Good guess! 'a' is in the word.\n",
            "\n",
            "Word: m o u n t a _ n\n",
            "Guess a letter: i\n",
            "Good guess! 'i' is in the word.\n",
            "\n",
            "Congratulations! You've guessed the word: mountain\n"
          ]
        }
      ]
    },
    {
      "cell_type": "markdown",
      "source": [
        "**TASK 2**\n",
        "\n",
        "**Stock Portfolio Tracker**\n",
        "\n",
        "Create a stock portfolio tracking tool that allows users to add, remove, and track the performance of their stock investments. Utilize financial APIs for real-time stock data."
      ],
      "metadata": {
        "id": "MRaa6rEgVY2J"
      }
    },
    {
      "cell_type": "code",
      "source": [
        "!pip install yfinance pandas\n"
      ],
      "metadata": {
        "colab": {
          "base_uri": "https://localhost:8080/"
        },
        "id": "YS3FIje_GbGC",
        "outputId": "936e0d2c-30d7-46bf-ac2f-b36aa81dac4a"
      },
      "execution_count": null,
      "outputs": [
        {
          "output_type": "stream",
          "name": "stdout",
          "text": [
            "Requirement already satisfied: yfinance in /usr/local/lib/python3.10/dist-packages (0.2.43)\n",
            "Requirement already satisfied: pandas in /usr/local/lib/python3.10/dist-packages (2.1.4)\n",
            "Requirement already satisfied: numpy>=1.16.5 in /usr/local/lib/python3.10/dist-packages (from yfinance) (1.26.4)\n",
            "Requirement already satisfied: requests>=2.31 in /usr/local/lib/python3.10/dist-packages (from yfinance) (2.32.3)\n",
            "Requirement already satisfied: multitasking>=0.0.7 in /usr/local/lib/python3.10/dist-packages (from yfinance) (0.0.11)\n",
            "Requirement already satisfied: lxml>=4.9.1 in /usr/local/lib/python3.10/dist-packages (from yfinance) (4.9.4)\n",
            "Requirement already satisfied: platformdirs>=2.0.0 in /usr/local/lib/python3.10/dist-packages (from yfinance) (4.3.2)\n",
            "Requirement already satisfied: pytz>=2022.5 in /usr/local/lib/python3.10/dist-packages (from yfinance) (2024.2)\n",
            "Requirement already satisfied: frozendict>=2.3.4 in /usr/local/lib/python3.10/dist-packages (from yfinance) (2.4.4)\n",
            "Requirement already satisfied: peewee>=3.16.2 in /usr/local/lib/python3.10/dist-packages (from yfinance) (3.17.6)\n",
            "Requirement already satisfied: beautifulsoup4>=4.11.1 in /usr/local/lib/python3.10/dist-packages (from yfinance) (4.12.3)\n",
            "Requirement already satisfied: html5lib>=1.1 in /usr/local/lib/python3.10/dist-packages (from yfinance) (1.1)\n",
            "Requirement already satisfied: python-dateutil>=2.8.2 in /usr/local/lib/python3.10/dist-packages (from pandas) (2.8.2)\n",
            "Requirement already satisfied: tzdata>=2022.1 in /usr/local/lib/python3.10/dist-packages (from pandas) (2024.1)\n",
            "Requirement already satisfied: soupsieve>1.2 in /usr/local/lib/python3.10/dist-packages (from beautifulsoup4>=4.11.1->yfinance) (2.6)\n",
            "Requirement already satisfied: six>=1.9 in /usr/local/lib/python3.10/dist-packages (from html5lib>=1.1->yfinance) (1.16.0)\n",
            "Requirement already satisfied: webencodings in /usr/local/lib/python3.10/dist-packages (from html5lib>=1.1->yfinance) (0.5.1)\n",
            "Requirement already satisfied: charset-normalizer<4,>=2 in /usr/local/lib/python3.10/dist-packages (from requests>=2.31->yfinance) (3.3.2)\n",
            "Requirement already satisfied: idna<4,>=2.5 in /usr/local/lib/python3.10/dist-packages (from requests>=2.31->yfinance) (3.8)\n",
            "Requirement already satisfied: urllib3<3,>=1.21.1 in /usr/local/lib/python3.10/dist-packages (from requests>=2.31->yfinance) (2.0.7)\n",
            "Requirement already satisfied: certifi>=2017.4.17 in /usr/local/lib/python3.10/dist-packages (from requests>=2.31->yfinance) (2024.8.30)\n"
          ]
        }
      ]
    },
    {
      "cell_type": "code",
      "source": [
        "import yfinance as yf\n",
        "import pandas as pd\n",
        "\n",
        "class StockPortfolioTracker:\n",
        "    def __init__(self):\n",
        "        self.portfolio = pd.DataFrame(columns=['Ticker', 'Shares', 'Purchase Price'])\n",
        "\n",
        "    def add_stock(self, ticker, shares, purchase_price):\n",
        "        # Fetch stock data\n",
        "        stock_data = yf.Ticker(ticker)\n",
        "        current_price = stock_data.history(period=\"1d\")['Close'].iloc[-1]\n",
        "\n",
        "        # Check if stock is already in portfolio\n",
        "        if ticker in self.portfolio['Ticker'].values:\n",
        "            print(f\"{ticker} is already in the portfolio.\")\n",
        "        else:\n",
        "            # Add stock to portfolio\n",
        "            new_stock = pd.DataFrame([[ticker, shares, purchase_price]], columns=['Ticker', 'Shares', 'Purchase Price'])\n",
        "            self.portfolio = pd.concat([self.portfolio, new_stock], ignore_index=True)\n",
        "            print(f\"Added {ticker} to portfolio.\")\n",
        "\n",
        "        self.display_portfolio()\n",
        "\n",
        "    def remove_stock(self, ticker):\n",
        "        if ticker in self.portfolio['Ticker'].values:\n",
        "            self.portfolio = self.portfolio[self.portfolio['Ticker'] != ticker]\n",
        "            print(f\"Removed {ticker} from portfolio.\")\n",
        "        else:\n",
        "            print(f\"{ticker} not found in the portfolio.\")\n",
        "\n",
        "        self.display_portfolio()\n",
        "\n",
        "    def update_stock_price(self, ticker):\n",
        "        stock_data = yf.Ticker(ticker)\n",
        "        current_price = stock_data.history(period=\"1d\")['Close'].iloc[-1]\n",
        "        return current_price\n",
        "\n",
        "    def track_portfolio(self):\n",
        "        if self.portfolio.empty:\n",
        "            print(\"Portfolio is empty.\")\n",
        "            return\n",
        "\n",
        "        self.portfolio['Current Price'] = self.portfolio['Ticker'].apply(self.update_stock_price)\n",
        "        self.portfolio['Value'] = self.portfolio['Shares'] * self.portfolio['Current Price']\n",
        "        self.portfolio['Gain/Loss'] = (self.portfolio['Current Price'] - self.portfolio['Purchase Price']) * self.portfolio['Shares']\n",
        "\n",
        "        print(\"\\nPortfolio Performance:\")\n",
        "        print(self.portfolio)\n",
        "\n",
        "    def display_portfolio(self):\n",
        "        print(\"\\nCurrent Portfolio:\")\n",
        "        print(self.portfolio)\n",
        "\n",
        "# Usage\n",
        "portfolio = StockPortfolioTracker()\n",
        "portfolio.add_stock('AAPL', 10, 150)  # Example stock\n",
        "portfolio.add_stock('TSLA', 5, 700)   # Example stock\n",
        "portfolio.track_portfolio()\n",
        "portfolio.remove_stock('AAPL')\n",
        "portfolio.track_portfolio()\n"
      ],
      "metadata": {
        "colab": {
          "base_uri": "https://localhost:8080/"
        },
        "id": "CIbucr1mGyno",
        "outputId": "275efe47-f972-4e4b-d7d7-bf175aa2b216"
      },
      "execution_count": null,
      "outputs": [
        {
          "output_type": "stream",
          "name": "stdout",
          "text": [
            "Added AAPL to portfolio.\n",
            "\n",
            "Current Portfolio:\n",
            "  Ticker Shares Purchase Price\n",
            "0   AAPL     10            150\n",
            "Added TSLA to portfolio.\n",
            "\n",
            "Current Portfolio:\n",
            "  Ticker Shares Purchase Price\n",
            "0   AAPL     10            150\n",
            "1   TSLA      5            700\n",
            "\n",
            "Portfolio Performance:\n",
            "  Ticker Shares Purchase Price  Current Price        Value    Gain/Loss\n",
            "0   AAPL     10            150     215.158493   2151.58493    651.58493\n",
            "1   TSLA      5            700     226.579895  1132.899475 -2367.100525\n",
            "Removed AAPL from portfolio.\n",
            "\n",
            "Current Portfolio:\n",
            "  Ticker Shares Purchase Price  Current Price        Value    Gain/Loss\n",
            "1   TSLA      5            700     226.579895  1132.899475 -2367.100525\n",
            "\n",
            "Portfolio Performance:\n",
            "  Ticker Shares Purchase Price  Current Price        Value    Gain/Loss\n",
            "1   TSLA      5            700     226.579895  1132.899475 -2367.100525\n"
          ]
        }
      ]
    },
    {
      "cell_type": "markdown",
      "source": [
        "**TASK 3**\n",
        "\n",
        "**Basic Chatbot**\n",
        "\n",
        "Create a text-based chatbot that can have conversations with users. You can use natural language processing libraries like NLTK or spaCy to make your chatbot more conversational."
      ],
      "metadata": {
        "id": "_DBrlGJLVlDA"
      }
    },
    {
      "cell_type": "code",
      "source": [
        "!pip install nltk\n"
      ],
      "metadata": {
        "colab": {
          "base_uri": "https://localhost:8080/"
        },
        "id": "LPwU1W2zHPwh",
        "outputId": "2382355a-2df9-495c-b850-521ca91ac4e6"
      },
      "execution_count": null,
      "outputs": [
        {
          "output_type": "stream",
          "name": "stdout",
          "text": [
            "Requirement already satisfied: nltk in /usr/local/lib/python3.10/dist-packages (3.8.1)\n",
            "Requirement already satisfied: click in /usr/local/lib/python3.10/dist-packages (from nltk) (8.1.7)\n",
            "Requirement already satisfied: joblib in /usr/local/lib/python3.10/dist-packages (from nltk) (1.4.2)\n",
            "Requirement already satisfied: regex>=2021.8.3 in /usr/local/lib/python3.10/dist-packages (from nltk) (2024.5.15)\n",
            "Requirement already satisfied: tqdm in /usr/local/lib/python3.10/dist-packages (from nltk) (4.66.5)\n"
          ]
        }
      ]
    },
    {
      "cell_type": "code",
      "source": [
        "import nltk\n",
        "from nltk.chat.util import Chat, reflections\n",
        "\n",
        "# Download necessary resources\n",
        "nltk.download('punkt')\n",
        "\n",
        "# Define chatbot patterns and responses\n",
        "pairs = [\n",
        "    (r\"hi|hello|hey\", [\"Hello! How can I help you today?\", \"Hi there! What can I do for you?\"]),\n",
        "    (r\"my name is (.*)\", [\"Hello %1, nice to meet you!\"]),\n",
        "    (r\"what is your name?\", [\"I am a chatbot created to assist you.\"]),\n",
        "    (r\"how are you?\", [\"I'm just a computer program, but I'm here to help you!\"]),\n",
        "    (r\"sorry (.*)\", [\"No problem! How can I assist you further?\"]),\n",
        "    (r\"quit\", [\"Goodbye! Have a great day!\"]),\n",
        "    (r\"(.*)\", [\"I'm not sure how to respond to that. Can you rephrase?\"])\n",
        "]\n",
        "\n",
        "# Create the chatbot\n",
        "chatbot = Chat(pairs, reflections)\n",
        "\n",
        "# Function to start the chatbot\n",
        "def start_chatbot():\n",
        "    print(\"Hi! I'm your chatbot. Type 'quit' to end the conversation.\")\n",
        "    while True:\n",
        "        user_input = input(\"You: \")\n",
        "        response = chatbot.respond(user_input)\n",
        "        print(f\"Chatbot: {response}\")\n",
        "        if user_input.lower() == \"quit\":\n",
        "            break\n",
        "\n",
        "# Run the chatbot\n",
        "start_chatbot()\n"
      ],
      "metadata": {
        "colab": {
          "base_uri": "https://localhost:8080/"
        },
        "id": "icwydhQGHToI",
        "outputId": "e8a26030-9ef6-4364-dacb-b39cb893ff0c"
      },
      "execution_count": null,
      "outputs": [
        {
          "output_type": "stream",
          "name": "stderr",
          "text": [
            "[nltk_data] Downloading package punkt to /root/nltk_data...\n",
            "[nltk_data]   Package punkt is already up-to-date!\n"
          ]
        },
        {
          "output_type": "stream",
          "name": "stdout",
          "text": [
            "Hi! I'm your chatbot. Type 'quit' to end the conversation.\n",
            "You: hi\n",
            "Chatbot: Hi there! What can I do for you?\n",
            "You: what is your name?\n",
            "Chatbot: I am a chatbot created to assist you.\n",
            "You: quit\n",
            "Chatbot: Goodbye! Have a great day!\n"
          ]
        }
      ]
    },
    {
      "cell_type": "markdown",
      "source": [
        "**TASK 4**\n",
        "\n",
        "**Task Automation with Python Scripts**\n",
        "\n",
        "Identify a repetitive task in your workflow and create Python scripts to automate it. This could include tasks like file organization, data cleaning, or system maintenance."
      ],
      "metadata": {
        "id": "s72KBRutVuLg"
      }
    },
    {
      "cell_type": "code",
      "source": [
        "import os\n",
        "import shutil\n",
        "\n",
        "# Create sample files for demonstration\n",
        "def create_sample_files(base_dir):\n",
        "    if not os.path.exists(base_dir):\n",
        "        os.makedirs(base_dir)\n",
        "\n",
        "    sample_files = [\n",
        "        (\"document1.txt\", \"This is a text document.\"),\n",
        "        (\"document2.docx\", \"This is a Word document.\"),\n",
        "        (\"spreadsheet.xlsx\", \"This is an Excel file.\"),\n",
        "        (\"image1.jpg\", \"This is a JPEG image.\"),\n",
        "        (\"image2.png\", \"This is a PNG image.\"),\n",
        "        (\"presentation.pptx\", \"This is a PowerPoint presentation.\")\n",
        "    ]\n",
        "\n",
        "    for filename, content in sample_files:\n",
        "        with open(os.path.join(base_dir, filename), 'w') as file:\n",
        "            file.write(content)\n",
        "\n",
        "# Create the sample files\n",
        "create_sample_files('sample_files')\n",
        "\n",
        "# Function to organize files\n",
        "def organize_files(directory):\n",
        "    if not os.path.exists(directory):\n",
        "        print(\"Directory does not exist.\")\n",
        "        return\n",
        "\n",
        "    for filename in os.listdir(directory):\n",
        "        file_path = os.path.join(directory, filename)\n",
        "        if os.path.isfile(file_path):\n",
        "            file_extension = filename.split('.')[-1]\n",
        "            folder = os.path.join(directory, file_extension)\n",
        "\n",
        "            if not os.path.exists(folder):\n",
        "                os.makedirs(folder)\n",
        "\n",
        "            shutil.move(file_path, os.path.join(folder, filename))\n",
        "    print(\"Files have been organized.\")\n",
        "\n",
        "# Organize the files\n",
        "organize_files('sample_files')\n"
      ],
      "metadata": {
        "colab": {
          "base_uri": "https://localhost:8080/"
        },
        "outputId": "5199adb4-8900-4319-cca7-2550cb295565",
        "id": "7jDxBNslJbRM"
      },
      "execution_count": null,
      "outputs": [
        {
          "output_type": "stream",
          "name": "stdout",
          "text": [
            "Files have been organized.\n"
          ]
        }
      ]
    },
    {
      "cell_type": "code",
      "source": [
        "\n",
        "\n",
        "import os\n",
        "import shutil\n",
        "\n",
        "# Create sample files for demonstration\n",
        "def create_sample_files(base_dir):\n",
        "    if not os.path.exists(base_dir):\n",
        "        os.makedirs(base_dir)\n",
        "\n",
        "    sample_files = [\n",
        "        (\"document1.txt\", \"This is a text document.\"),\n",
        "        (\"document2.docx\", \"This is a Word document.\"),\n",
        "        (\"spreadsheet.xlsx\", \"This is an Excel file.\"),\n",
        "        (\"image1.jpg\", \"This is a JPEG image.\"),\n",
        "        (\"image2.png\", \"This is a PNG image.\"),\n",
        "        (\"presentation.pptx\", \"This is a PowerPoint presentation.\")\n",
        "    ]\n",
        "\n",
        "    for filename, content in sample_files:\n",
        "        with open(os.path.join(base_dir, filename), 'w') as file:\n",
        "            file.write(content)\n",
        "\n",
        "create_sample_files('sample_files')\n"
      ],
      "metadata": {
        "id": "BX5dvVoRJkIO"
      },
      "execution_count": null,
      "outputs": []
    },
    {
      "cell_type": "code",
      "source": [
        "def organize_files(directory):\n",
        "    if not os.path.exists(directory):\n",
        "        print(\"Directory does not exist.\")\n",
        "        return\n",
        "\n",
        "    for filename in os.listdir(directory):\n",
        "        file_path = os.path.join(directory, filename)\n",
        "        if os.path.isfile(file_path):\n",
        "            file_extension = filename.split('.')[-1]\n",
        "            folder = os.path.join(directory, file_extension)\n",
        "\n",
        "            if not os.path.exists(folder):\n",
        "                os.makedirs(folder)\n",
        "\n",
        "            shutil.move(file_path, os.path.join(folder, filename))\n",
        "    print(\"Files have been organized.\")\n",
        "\n",
        "# Specify the directory to organize\n",
        "directory = 'sample_files'\n",
        "organize_files(directory)\n"
      ],
      "metadata": {
        "colab": {
          "base_uri": "https://localhost:8080/"
        },
        "id": "Ietf3VtnJnym",
        "outputId": "3065ca6e-a066-4aa3-e615-13ec66b3fe51"
      },
      "execution_count": null,
      "outputs": [
        {
          "output_type": "stream",
          "name": "stdout",
          "text": [
            "Files have been organized.\n"
          ]
        }
      ]
    },
    {
      "cell_type": "code",
      "source": [
        "\n",
        "\n",
        "import os\n",
        "import shutil\n",
        "\n",
        "# Create sample files for demonstration\n",
        "def create_sample_files(base_dir):\n",
        "    if not os.path.exists(base_dir):\n",
        "        os.makedirs(base_dir)\n",
        "\n",
        "    sample_files = [\n",
        "        (\"document1.txt\", \"This is a text document.\"),\n",
        "        (\"document2.docx\", \"This is a Word document.\"),\n",
        "        (\"spreadsheet.xlsx\", \"This is an Excel file.\"),\n",
        "        (\"image1.jpg\", \"This is a JPEG image.\"),\n",
        "        (\"image2.png\", \"This is a PNG image.\"),\n",
        "        (\"presentation.pptx\", \"This is a PowerPoint presentation.\")\n",
        "    ]\n",
        "\n",
        "    for filename, content in sample_files:\n",
        "        with open(os.path.join(base_dir, filename), 'w') as file:\n",
        "            file.write(content)\n",
        "\n",
        "# Create the sample files\n",
        "create_sample_files('sample_files')\n",
        "\n",
        "# Function to organize files\n",
        "def organize_files(directory):\n",
        "    if not os.path.exists(directory):\n",
        "        print(\"Directory does not exist.\")\n",
        "        return\n",
        "\n",
        "    for filename in os.listdir(directory):\n",
        "        file_path = os.path.join(directory, filename)\n",
        "        if os.path.isfile(file_path):\n",
        "            file_extension = filename.split('.')[-1]\n",
        "            folder = os.path.join(directory, file_extension)\n",
        "\n",
        "            if not os.path.exists(folder):\n",
        "                os.makedirs(folder)\n",
        "\n",
        "            shutil.move(file_path, os.path.join(folder, filename))\n",
        "    print(\"Files have been organized.\")\n",
        "\n",
        "# Organize the files\n",
        "organize_files('sample_files')\n"
      ],
      "metadata": {
        "colab": {
          "base_uri": "https://localhost:8080/"
        },
        "id": "mwFVR_ycJsuu",
        "outputId": "7117a316-80f4-464c-b29d-227be8ad3d92"
      },
      "execution_count": null,
      "outputs": [
        {
          "output_type": "stream",
          "name": "stdout",
          "text": [
            "Files have been organized.\n"
          ]
        }
      ]
    }
  ]
}